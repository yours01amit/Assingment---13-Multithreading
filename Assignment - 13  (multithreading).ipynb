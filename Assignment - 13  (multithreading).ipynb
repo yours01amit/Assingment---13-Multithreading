{
 "cells": [
  {
   "cell_type": "markdown",
   "id": "2e4ec6b0",
   "metadata": {},
   "source": [
    "Q1. what is multithreading in python? hy is it used? Name the module used to handle threads in python\n",
    "\n",
    "Ans: Multithreading in Python refers to the ability to run multiple threads (lightweight sub-processes) simultaneously within a single program. Each thread is an independent flow of control that can execute concurrently with other threads in the same program.\n",
    "\n",
    "Multithreading is used in Python and other programming languages to achieve concurrency and parallelism, which can help improve the performance and responsiveness of certain types of applications. Specifically, multithreading can be used to:\n",
    "\n",
    "Improve responsiveness: By running long-running tasks in a separate thread, the main thread can continue to respond to user input and handle other tasks without getting blocked.\n",
    "\n",
    "Utilize multiple CPUs/cores: On a multi-core CPU, multithreading can be used to distribute the workload across multiple cores, allowing the program to execute more tasks simultaneously and potentially improving performance.\n",
    "\n",
    "Simplify code: Multithreading can help simplify code by allowing multiple tasks to be executed concurrently in a more natural and intuitive way.\n",
    "\n",
    "The module used to handle threads in Python is called threading. The threading module provides a way to create and manage threads in a Python program. It includes functions for starting and stopping threads, as well as for synchronizing threads and sharing data between them."
   ]
  },
  {
   "cell_type": "code",
   "execution_count": 2,
   "id": "7965ab02",
   "metadata": {},
   "outputs": [
    {
     "name": "stdout",
     "output_type": "stream",
     "text": [
      "Starting my_function Main thread is still running\n",
      "\n",
      "Ending my_function\n"
     ]
    }
   ],
   "source": [
    "import threading\n",
    "\n",
    "def my_function():\n",
    "    print(\"Starting my_function \")\n",
    "    # code to be executed in the thread goes here\n",
    "    print(\"Ending my_function\")\n",
    "\n",
    "# create a new thread\n",
    "t = threading.Thread(target=my_function)\n",
    "\n",
    "# start the thread\n",
    "t.start()\n",
    "\n",
    "# do other work in the main thread\n",
    "print(\"Main thread is still running\")"
   ]
  },
  {
   "cell_type": "markdown",
   "id": "cb98268d",
   "metadata": {},
   "source": [
    "Q2. Why threading module used? rite the use of the following functions:\n",
    "   \n",
    "1. activeCount()\n",
    "2. currentThread()\n",
    "3. enumerate()\n",
    "\n",
    "Ans:  The threading module in Python is used to create and manage threads within a Python program. A thread is a separate flow of execution that can run in parallel with other threads in the same program, allowing the program to perform multiple tasks simultaneously.\n",
    "\n",
    "Here are some common reasons why the threading module is used:\n",
    "\n",
    "Concurrency: The threading module enables concurrent execution of multiple threads within a single program, allowing the program to make progress on multiple tasks simultaneously.\n",
    "\n",
    "Resource sharing: Threads can share resources like memory and CPU time, which can make a program more efficient and reduce overall processing time.\n",
    "\n",
    "Asynchronous programming: Threads can be used to perform tasks asynchronously, allowing a program to continue executing while a thread waits for I/O or other time-consuming operations to complete.\n",
    "\n",
    "GUI programming: In GUI programming, the use of threads is essential to keep the GUI responsive while performing background tasks.\n",
    "\n",
    "Network programming: The threading module is often used in network programming to manage multiple connections simultaneously, allowing a server to handle multiple clients at the same time."
   ]
  },
  {
   "cell_type": "markdown",
   "id": "6687157c",
   "metadata": {},
   "source": [
    "activeCount() function: This function is used to retrieve the current number of active threads in a program. It returns the number of Thread objects that are currently running, including the main thread. This function takes no arguments."
   ]
  },
  {
   "cell_type": "code",
   "execution_count": 3,
   "id": "7481c18c",
   "metadata": {},
   "outputs": [
    {
     "name": "stdout",
     "output_type": "stream",
     "text": [
      "Current thread name: Current thread name:  Thread-8 (worker)\n",
      " Thread-7 (worker)\n",
      "Current thread name:  Thread-9 (worker)\n",
      "Current thread name:  Thread-10 (worker)\n",
      "Current thread name:  Thread-11 (worker)\n",
      "Active threads:  6\n"
     ]
    },
    {
     "name": "stderr",
     "output_type": "stream",
     "text": [
      "C:\\Users\\Acer\\AppData\\Local\\Temp\\ipykernel_9552\\953974991.py:6: DeprecationWarning: currentThread() is deprecated, use current_thread() instead\n",
      "  print(\"Current thread name: \", threading.currentThread().getName())\n",
      "C:\\Users\\Acer\\AppData\\Local\\Temp\\ipykernel_9552\\953974991.py:6: DeprecationWarning: getName() is deprecated, get the name attribute instead\n",
      "  print(\"Current thread name: \", threading.currentThread().getName())\n",
      "C:\\Users\\Acer\\AppData\\Local\\Temp\\ipykernel_9552\\953974991.py:14: DeprecationWarning: activeCount() is deprecated, use active_count() instead\n",
      "  print(\"Active threads: \", threading.activeCount()) # Output: 6\n"
     ]
    }
   ],
   "source": [
    "# Example of activeCount()\n",
    "\n",
    "import threading\n",
    "\n",
    "def worker():\n",
    "    print(\"Current thread name: \", threading.currentThread().getName())\n",
    "\n",
    "threads = []\n",
    "for i in range(5):\n",
    "    t = threading.Thread(target=worker)\n",
    "    threads.append(t)\n",
    "    t.start()\n",
    "\n",
    "print(\"Active threads: \", threading.activeCount()) # Output: 6\n"
   ]
  },
  {
   "cell_type": "markdown",
   "id": "3576cb4b",
   "metadata": {},
   "source": [
    "currentThread() function: This function returns the current Thread object, which represents the thread from which the function is called. This function takes no arguments."
   ]
  },
  {
   "cell_type": "code",
   "execution_count": 4,
   "id": "84375498",
   "metadata": {},
   "outputs": [
    {
     "name": "stdout",
     "output_type": "stream",
     "text": [
      "Current thread name:  Thread-12 (worker)\n"
     ]
    },
    {
     "name": "stderr",
     "output_type": "stream",
     "text": [
      "C:\\Users\\Acer\\AppData\\Local\\Temp\\ipykernel_9552\\744759955.py:6: DeprecationWarning: currentThread() is deprecated, use current_thread() instead\n",
      "  print(\"Current thread name: \", threading.currentThread().getName())\n",
      "C:\\Users\\Acer\\AppData\\Local\\Temp\\ipykernel_9552\\744759955.py:6: DeprecationWarning: getName() is deprecated, get the name attribute instead\n",
      "  print(\"Current thread name: \", threading.currentThread().getName())\n"
     ]
    }
   ],
   "source": [
    "# Example of currentThread\n",
    "\n",
    "import threading\n",
    "\n",
    "def worker():\n",
    "    print(\"Current thread name: \", threading.currentThread().getName())\n",
    "\n",
    "t = threading.Thread(target=worker)\n",
    "t.start()\n"
   ]
  },
  {
   "cell_type": "markdown",
   "id": "a213e536",
   "metadata": {},
   "source": [
    "enumerate() function: This function returns a list of all active Thread objects in a program. If the thread argument is not None, it returns a list of all active Thread objects whose name matches the given regular expression pattern."
   ]
  },
  {
   "cell_type": "code",
   "execution_count": 5,
   "id": "a3676e27",
   "metadata": {},
   "outputs": [
    {
     "name": "stdout",
     "output_type": "stream",
     "text": [
      "Current thread name:  Thread-13 (worker)\n",
      "Current thread name:  Thread-14 (worker)\n",
      "Current thread name:  Thread-15 (worker)\n",
      "Current thread name:  Thread-16 (worker)\n",
      "Current thread name:  Thread-17 (worker)\n",
      "Number of active threads:  6\n"
     ]
    },
    {
     "name": "stderr",
     "output_type": "stream",
     "text": [
      "C:\\Users\\Acer\\AppData\\Local\\Temp\\ipykernel_9552\\1027545036.py:6: DeprecationWarning: currentThread() is deprecated, use current_thread() instead\n",
      "  print(\"Current thread name: \", threading.currentThread().getName())\n",
      "C:\\Users\\Acer\\AppData\\Local\\Temp\\ipykernel_9552\\1027545036.py:6: DeprecationWarning: getName() is deprecated, get the name attribute instead\n",
      "  print(\"Current thread name: \", threading.currentThread().getName())\n"
     ]
    }
   ],
   "source": [
    "# Exampe of enumerate function\n",
    "\n",
    "import threading\n",
    "\n",
    "def worker():\n",
    "    print(\"Current thread name: \", threading.currentThread().getName())\n",
    "\n",
    "threads = []\n",
    "for i in range(5):\n",
    "    t = threading.Thread(target=worker)\n",
    "    threads.append(t)\n",
    "    t.start()\n",
    "\n",
    "thread_list = threading.enumerate()\n",
    "print(\"Number of active threads: \", len(thread_list)) # Output: 6\n"
   ]
  },
  {
   "cell_type": "markdown",
   "id": "9c50b4cd",
   "metadata": {},
   "source": [
    "Q3. Explain the following functions:\n",
    "\n",
    "1.run\n",
    "2.start\n",
    "3.join\n",
    "4.isAlive\n",
    "\n",
    "run() function: This function is used to define the entry point for a new thread. It should be overridden by a subclass of the Thread class. When called, this function runs in the context of a new thread."
   ]
  },
  {
   "cell_type": "code",
   "execution_count": 6,
   "id": "a92a2c58",
   "metadata": {},
   "outputs": [
    {
     "name": "stdout",
     "output_type": "stream",
     "text": [
      "Thread started\n"
     ]
    }
   ],
   "source": [
    "import threading\n",
    "\n",
    "class MyThread(threading.Thread):\n",
    "    def run(self):\n",
    "        print(\"Thread started\")\n",
    "\n",
    "t = MyThread()\n",
    "t.run() # Output: Thread started\n"
   ]
  },
  {
   "cell_type": "markdown",
   "id": "ee642d96",
   "metadata": {},
   "source": [
    "start() function: This function is used to start a new thread by calling the run() method of the Thread class. When called, a new thread is created and the run() method of the thread is executed."
   ]
  },
  {
   "cell_type": "code",
   "execution_count": 7,
   "id": "20fdf117",
   "metadata": {},
   "outputs": [
    {
     "name": "stdout",
     "output_type": "stream",
     "text": [
      "Thread started\n"
     ]
    }
   ],
   "source": [
    "import threading\n",
    "\n",
    "class MyThread(threading.Thread):\n",
    "    def run(self):\n",
    "        print(\"Thread started\")\n",
    "\n",
    "t = MyThread()\n",
    "t.start() # Output: Thread started\n"
   ]
  },
  {
   "cell_type": "markdown",
   "id": "8f1ae6ad",
   "metadata": {},
   "source": [
    "join() function: This function is used to wait for a thread to terminate. The calling thread will block until the thread whose join() method is called is terminated. If the optional timeout argument is specified, the calling thread will block for at most that many seconds."
   ]
  },
  {
   "cell_type": "code",
   "execution_count": 8,
   "id": "6799875f",
   "metadata": {},
   "outputs": [
    {
     "name": "stdout",
     "output_type": "stream",
     "text": [
      "Waiting for worker thread to finish...\n",
      "Worker thread finished\n",
      "Worker thread has finished\n"
     ]
    }
   ],
   "source": [
    "import threading\n",
    "import time\n",
    "\n",
    "def worker():\n",
    "    time.sleep(3)\n",
    "    print(\"Worker thread finished\")\n",
    "\n",
    "t = threading.Thread(target=worker)\n",
    "t.start()\n",
    "print(\"Waiting for worker thread to finish...\")\n",
    "t.join()\n",
    "print(\"Worker thread has finished\")\n"
   ]
  },
  {
   "cell_type": "markdown",
   "id": "47a92da9",
   "metadata": {},
   "source": [
    "isAlive() function: This function is used to check if a thread is still alive. It returns True if the thread is still running, and False otherwise."
   ]
  },
  {
   "cell_type": "code",
   "execution_count": 18,
   "id": "29b29036",
   "metadata": {},
   "outputs": [
    {
     "name": "stdout",
     "output_type": "stream",
     "text": [
      "Worker thread startedWorker thread is still running...\n",
      "\n",
      "Worker thread is still running...\n",
      "Worker thread finished\n",
      "Worker thread has finished\n"
     ]
    }
   ],
   "source": [
    "import threading\n",
    "import time\n",
    "\n",
    "def worker():\n",
    "    print(\"Worker thread started\")\n",
    "    time.sleep(2)\n",
    "    print(\"Worker thread finished\")\n",
    "\n",
    "t = threading.Thread(target=worker)\n",
    "t.start()\n",
    "\n",
    "while t.is_alive():\n",
    "    print(\"Worker thread is still running...\")\n",
    "    time.sleep(1)\n",
    "\n",
    "print(\"Worker thread has finished\")\n"
   ]
  },
  {
   "cell_type": "markdown",
   "id": "c06a4d0d",
   "metadata": {},
   "source": [
    "Q4. Write a python program to create two threads. Thread one must print the list of squares and thread\n",
    "two must print the list of cubes."
   ]
  },
  {
   "cell_type": "code",
   "execution_count": 42,
   "id": "4651f4ae",
   "metadata": {},
   "outputs": [
    {
     "name": "stdout",
     "output_type": "stream",
     "text": [
      "1 square is 1\n",
      "2 square is 4\n",
      "3 square is 9\n",
      "4 square is 16\n",
      "5 square is 25\n",
      "6 square is 36\n",
      "7 square is 49\n",
      "8 square is 64\n",
      "9 square is 81\n",
      "10 square is 100\n",
      "1 cube is 1\n",
      "2 cube is 8\n",
      "3 cube is 27\n",
      "4 cube is 64\n",
      "5 cube is 125\n",
      "6 cube is 216\n",
      "7 cube is 343\n",
      "8 cube is 512\n",
      "9 cube is 729\n",
      "10 cube is 1000\n"
     ]
    }
   ],
   "source": [
    "import threading\n",
    "def squares():\n",
    "    for i in range(1,11):\n",
    "        print(f\"{i} square is {i*i}\")\n",
    "         \n",
    "def cubes():\n",
    "    for i in range(1,11):\n",
    "        print(f\"{i} cube is {i*i*i}\")\n",
    "\n",
    "        \n",
    "t1 = threading.Thread(target=squares)\n",
    "\n",
    "t2 = threading.Thread(target=cubes)\n",
    "\n",
    "\n",
    "t1.start()\n",
    "t2.start()\n",
    "\n",
    "t1.join()\n",
    "t2.join()\n",
    "\n"
   ]
  },
  {
   "cell_type": "markdown",
   "id": "98c53263",
   "metadata": {},
   "source": [
    "Q5. State advantages and disadvantages of multithreading.\n",
    "\n",
    "Advantages of multithreading:\n",
    "\n",
    "1.Increased Performance: Multithreading can improve the performance of an application by allowing it to perform multiple tasks simultaneously. Each thread can execute a different task in parallel, reducing the overall time required to complete the tasks.\n",
    "\n",
    "2.Responsiveness: Multithreading can also improve the responsiveness of an application. By separating the user interface from time-consuming tasks, the user interface can remain responsive to user input while the background tasks are executed.\n",
    "\n",
    "3.Resource Sharing: Threads in a multithreaded application can share resources, such as memory and CPU time, leading to more efficient use of resources.\n",
    "\n",
    "4.Better Resource Utilization: Multithreading can make better use of available resources by allowing the CPU to switch between threads while waiting for input/output operations, leading to more efficient resource utilization.\n",
    "\n",
    "Disadvantages of multithreading:\n",
    "\n",
    "1.Increased Complexity: Multithreaded applications can be more complex and harder to debug than single-threaded applications. The interactions between threads can be difficult to manage, and race conditions and deadlocks can occur.\n",
    "\n",
    "2.Synchronization Overhead: Synchronization is necessary to ensure that threads access shared resources in a thread-safe manner, but it adds overhead to the application. Synchronization can also lead to performance degradation if not implemented properly.\n",
    "\n",
    "3.Memory Overhead: Each thread requires its own stack and program counter, which can increase memory usage in a multithreaded application.\n",
    "\n",
    "4.Thread Starvation: If a thread is given a low priority or is blocked by another thread, it may not get the CPU time it needs to complete its task. This can lead to thread starvation, where a thread is unable to execute for long periods of time."
   ]
  },
  {
   "cell_type": "markdown",
   "id": "003102da",
   "metadata": {},
   "source": [
    "Q6. Explain deadlocks and race conditions.\n",
    "\n",
    "Ans: Deadlocks and race conditions are two common issues that can occur in multi-threaded programs.\n",
    "\n",
    "Deadlock occurs when two or more threads are waiting indefinitely for each other to release a resource they need to proceed. Essentially, each thread is waiting for the other to release a resource before it can continue. This can result in a situation where none of the threads can proceed, and the program becomes stuck. Deadlocks can occur when there are multiple threads competing for limited resources, such as shared memory or locks.\n",
    "\n",
    "Race conditions occur when two or more threads access a shared resource and try to modify it at the same time. The outcome of such a situation depends on the order in which the threads execute, and can result in unpredictable behavior. For example, if two threads are trying to increment the same variable at the same time, the final value of the variable may be different depending on the order in which the threads execute. Race conditions can lead to bugs that are difficult to reproduce and fix.\n",
    "\n",
    "Both deadlocks and race conditions are common problems in concurrent programming and can be difficult to diagnose and fix. They can be avoided by carefully designing the program to minimize shared resources, using proper synchronization techniques such as locks or semaphores, and avoiding operations that may have side effects or rely on undefined behavior.\n",
    "\n",
    "\n",
    "\n",
    "\n",
    "\n"
   ]
  }
 ],
 "metadata": {
  "kernelspec": {
   "display_name": "Python 3 (ipykernel)",
   "language": "python",
   "name": "python3"
  },
  "language_info": {
   "codemirror_mode": {
    "name": "ipython",
    "version": 3
   },
   "file_extension": ".py",
   "mimetype": "text/x-python",
   "name": "python",
   "nbconvert_exporter": "python",
   "pygments_lexer": "ipython3",
   "version": "3.11.0"
  }
 },
 "nbformat": 4,
 "nbformat_minor": 5
}
